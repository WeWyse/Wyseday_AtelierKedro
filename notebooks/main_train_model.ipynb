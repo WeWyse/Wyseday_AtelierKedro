{
 "cells": [
  {
   "cell_type": "code",
   "execution_count": null,
   "id": "222fa49f",
   "metadata": {},
   "outputs": [],
   "source": [
    "#pip install --requirement ../requirements.txt\n",
    "#pip install gcsfs\n",
    "#pip install \"kedro[all]\""
   ]
  },
  {
   "cell_type": "code",
   "execution_count": null,
   "id": "1ca12e16",
   "metadata": {},
   "outputs": [],
   "source": [
    "import pandas as pd\n",
    "import numpy as np\n",
    "\n",
    "from sklearn import datasets\n",
    "from sklearn.model_selection import train_test_split\n",
    "from sklearn.metrics import accuracy_score\n",
    "from sklearn.ensemble import RandomForestClassifier\n",
    "\n",
    "#Import kedro libraries\n",
    "from kedro.config import TemplatedConfigLoader\n",
    "from kedro.io import DataCatalog"
   ]
  },
  {
   "cell_type": "code",
   "execution_count": null,
   "id": "cac9d83f",
   "metadata": {},
   "outputs": [],
   "source": [
    "\n",
    "def train_random_forest_with_iris_dataset(\n",
    "        catalog: DataCatalog\n",
    "):\n",
    "    # Load IRIS data set\n",
    "    iris = datasets.load_iris()\n",
    "    X = iris.data[:, 2:]\n",
    "    y = iris.target\n",
    "\n",
    "    # Create training/ test data split\n",
    "    X_train, X_test, y_train, y_test = train_test_split(X, y, test_size=0.3, random_state=1, stratify=y)\n",
    "\n",
    "    # Create an instance of Random Forest Classifier\n",
    "    forest = RandomForestClassifier(criterion='gini',\n",
    "                                  n_estimators=5,\n",
    "                                  random_state=1,\n",
    "                                  n_jobs=2)\n",
    "\n",
    "    # Fit the model\n",
    "    forest.fit(X_train, y_train)\n",
    "    \n",
    "    #TODO: add the line of code to save the model as a pickle file using the catalog\n",
    "    \n",
    "\n",
    "    #TODO: add the line of code to load the model using the catalog into model variable\n",
    "    model = None\n",
    "    \n",
    "    # Measure model performance\n",
    "    y_pred = model.predict(X_test)\n",
    "    print('Accuracy: %.3f' % accuracy_score(y_test, y_pred))\n"
   ]
  },
  {
   "cell_type": "code",
   "execution_count": null,
   "id": "ffdb4977",
   "metadata": {},
   "outputs": [],
   "source": [
    "#TODO add the code to create your data catalog and load my_config.yml"
   ]
  },
  {
   "cell_type": "code",
   "execution_count": null,
   "id": "f19b78fc",
   "metadata": {},
   "outputs": [],
   "source": [
    "train_random_forest_with_iris_dataset(catalog=catalog)"
   ]
  }
 ],
 "metadata": {
  "kernelspec": {
   "display_name": "Python 3",
   "language": "python",
   "name": "python3"
  },
  "language_info": {
   "codemirror_mode": {
    "name": "ipython",
    "version": 3
   },
   "file_extension": ".py",
   "mimetype": "text/x-python",
   "name": "python",
   "nbconvert_exporter": "python",
   "pygments_lexer": "ipython3",
   "version": "3.7.3"
  }
 },
 "nbformat": 4,
 "nbformat_minor": 5
}
